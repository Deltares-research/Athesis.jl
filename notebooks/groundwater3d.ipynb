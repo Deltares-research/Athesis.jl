{
 "cells": [
  {
   "cell_type": "markdown",
   "id": "reverse-maximum",
   "metadata": {},
   "source": [
    "# 3D groundwater"
   ]
  },
  {
   "cell_type": "code",
   "execution_count": 1,
   "id": "checked-encoding",
   "metadata": {},
   "outputs": [],
   "source": [
    "# Include some required packages\n",
    "using Plots\n",
    "using CUDA\n",
    "using TimerOutputs"
   ]
  },
  {
   "cell_type": "code",
   "execution_count": 2,
   "id": "public-concept",
   "metadata": {},
   "outputs": [],
   "source": [
    "# Include the Athesis package for 3D groundwater simulation\n",
    "using Athesis"
   ]
  },
  {
   "cell_type": "code",
   "execution_count": 3,
   "id": "painted-turkish",
   "metadata": {},
   "outputs": [
    {
     "data": {
      "text/plain": [
       "groundwater3d (generic function with 4 methods)"
      ]
     },
     "execution_count": 3,
     "metadata": {},
     "output_type": "execute_result"
    }
   ],
   "source": [
    "# The main function\n",
    "function groundwater3d(isBenchmark = false, useGPU = false, myFloat = Float64)\n",
    "\n",
    "    to = TimerOutput()\n",
    "\n",
    "    @timeit to \"total run time\" begin\n",
    "\n",
    "        # Initialize the model\n",
    "        println(\"Running 3D groundwater model:\")\n",
    "\n",
    "        defaultInput = getDefaultInput(myFloat)\n",
    "        simulation = initSimulation(defaultInput, useGPU, myFloat, to)\n",
    "\n",
    "        runSimulation!(simulation, to)\n",
    "\n",
    "        plotSimulation(simulation, to)\n",
    "\n",
    "    end\n",
    "\n",
    "    print_timer(to)\n",
    "\n",
    "end"
   ]
  },
  {
   "cell_type": "code",
   "execution_count": null,
   "id": "functioning-conditioning",
   "metadata": {},
   "outputs": [],
   "source": [
    "# Run the code with default settings\n",
    "groundwater3d()"
   ]
  }
 ],
 "metadata": {
  "kernelspec": {
   "display_name": "Julia 1.6.1",
   "language": "julia",
   "name": "julia-1.6"
  },
  "language_info": {
   "file_extension": ".jl",
   "mimetype": "application/julia",
   "name": "julia",
   "version": "1.6.1"
  }
 },
 "nbformat": 4,
 "nbformat_minor": 5
}
